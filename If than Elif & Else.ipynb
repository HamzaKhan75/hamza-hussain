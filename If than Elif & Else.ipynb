{
 "cells": [
  {
   "cell_type": "code",
   "execution_count": 1,
   "id": "d7ac1a04",
   "metadata": {},
   "outputs": [
    {
     "name": "stdout",
     "output_type": "stream",
     "text": [
      "Enter your salary: 25000000\n",
      "Enter your years of service: 6\n",
      "Congratulations! You are eligible for a 5% bonus.\n",
      "Net Bonus Amount: $1250000.00\n"
     ]
    }
   ],
   "source": [
    "salary = float(input(\"Enter your salary: \"))\n",
    "years_of_service = int(input(\"Enter your years of service: \"))\n",
    "if years_of_service > 5:\n",
    "    bonus_percentage = 5\n",
    "    bonus_amount = (bonus_percentage / 100) * salary\n",
    "    print(f\"Congratulations! You are eligible for a {bonus_percentage}% bonus.\")\n",
    "    print(f\"Net Bonus Amount: ${bonus_amount:.2f}\")\n",
    "else:\n",
    "    print(\"Sorry, you are not eligible for a bonus.\")"
   ]
  },
  {
   "cell_type": "code",
   "execution_count": 2,
   "id": "d703e8da",
   "metadata": {},
   "outputs": [
    {
     "name": "stdout",
     "output_type": "stream",
     "text": [
      "Enter your age: 18\n",
      "Congratulations! You are eligible for voting.\n"
     ]
    }
   ],
   "source": [
    "age = int(input(\"Enter your age: \"))\n",
    "if age > 17:\n",
    "    print(\"Congratulations! You are eligible for voting.\")\n",
    "else:\n",
    "    print(\"Sorry, you are not eligible for voting.\")"
   ]
  },
  {
   "cell_type": "code",
   "execution_count": 3,
   "id": "ed993e40",
   "metadata": {},
   "outputs": [
    {
     "name": "stdout",
     "output_type": "stream",
     "text": [
      "Enter a number: 3\n",
      "3 is an odd number.\n"
     ]
    }
   ],
   "source": [
    "number = int(input(\"Enter a number: \"))\n",
    "if number % 2 == 0:\n",
    "    print(f\"{number} is an even number.\")\n",
    "else:\n",
    "    print(f\"{number} is an odd number.\")"
   ]
  },
  {
   "cell_type": "code",
   "execution_count": 5,
   "id": "6a98b450",
   "metadata": {},
   "outputs": [
    {
     "name": "stdout",
     "output_type": "stream",
     "text": [
      "Enter a number: 7\n",
      "7 is divisible by 7.\n"
     ]
    }
   ],
   "source": [
    "number = int(input(\"Enter a number: \"))\n",
    "if number % 7 == 0:\n",
    "    print(f\"{number} is divisible by 7.\")\n",
    "else:\n",
    "    print(f\"{number} is not divisible by 7.\")"
   ]
  },
  {
   "cell_type": "code",
   "execution_count": 6,
   "id": "006dc052",
   "metadata": {},
   "outputs": [
    {
     "name": "stdout",
     "output_type": "stream",
     "text": [
      "Enter a number: 5\n",
      "Hello\n"
     ]
    }
   ],
   "source": [
    "number = int(input(\"Enter a number: \"))\n",
    "if number % 5 == 0:\n",
    "    print(\"Hello\")\n",
    "else:\n",
    "    print(\"Bye\")"
   ]
  },
  {
   "cell_type": "code",
   "execution_count": 7,
   "id": "02674c8c",
   "metadata": {},
   "outputs": [
    {
     "name": "stdout",
     "output_type": "stream",
     "text": [
      "Enter a number: 15\n",
      "The last digit of 15 is: 5\n"
     ]
    }
   ],
   "source": [
    "number = int(input(\"Enter a number: \"))\n",
    "last_digit = number % 10\n",
    "print(f\"The last digit of {number} is: {last_digit}\")"
   ]
  },
  {
   "cell_type": "code",
   "execution_count": 8,
   "id": "6c7fdad7",
   "metadata": {},
   "outputs": [
    {
     "name": "stdout",
     "output_type": "stream",
     "text": [
      "Enter a number: 15\n",
      "The last digit (5) is not divisible by 3.\n"
     ]
    }
   ],
   "source": [
    "number = int(input(\"Enter a number: \"))\n",
    "last_digit = number % 10\n",
    "if last_digit % 3 == 0:\n",
    "    print(f\"The last digit ({last_digit}) is divisible by 3.\")\n",
    "else:\n",
    "    print(f\"The last digit ({last_digit}) is not divisible by 3.\")"
   ]
  },
  {
   "cell_type": "code",
   "execution_count": 11,
   "id": "49c9ba72",
   "metadata": {},
   "outputs": [
    {
     "name": "stdout",
     "output_type": "stream",
     "text": [
      "Enter the length of the rectangle: 1.25\n",
      "Enter the breadth of the rectangle: 0.36\n",
      "It is a rectangle.\n"
     ]
    }
   ],
   "source": [
    "length = float(input(\"Enter the length of the rectangle: \"))\n",
    "breadth = float(input(\"Enter the breadth of the rectangle: \"))\n",
    "if length == breadth:\n",
    "    print(\"It is a square.\")\n",
    "else:\n",
    "    print(\"It is a rectangle.\")"
   ]
  },
  {
   "cell_type": "code",
   "execution_count": 12,
   "id": "93a574d7",
   "metadata": {},
   "outputs": [
    {
     "name": "stdout",
     "output_type": "stream",
     "text": [
      "Enter the first integer: 6\n",
      "Enter the second integer: 5\n",
      "The greatest number is: 6\n"
     ]
    }
   ],
   "source": [
    "num1 = int(input(\"Enter the first integer: \"))\n",
    "num2 = int(input(\"Enter the second integer: \"))\n",
    "if num1 > num2:\n",
    "    print(f\"The greatest number is: {num1}\")\n",
    "elif num2 > num1:\n",
    "    print(f\"The greatest number is: {num2}\")\n",
    "else:\n",
    "    print(\"Both numbers are equal.\")"
   ]
  },
  {
   "cell_type": "code",
   "execution_count": 13,
   "id": "23e46363",
   "metadata": {},
   "outputs": [
    {
     "name": "stdout",
     "output_type": "stream",
     "text": [
      "Enter the quantity of units purchased: 3500\n",
      "Congratulations! You get a 10% discount.\n",
      "Total cost after discount: $315000.00\n"
     ]
    }
   ],
   "source": [
    "cost_per_unit = 100\n",
    "quantity = int(input(\"Enter the quantity of units purchased: \"))\n",
    "total_cost = quantity * cost_per_unit\n",
    "if total_cost > 1000:\n",
    "    discount = 0.10 * total_cost\n",
    "    total_cost -= discount\n",
    "    print(f\"Congratulations! You get a 10% discount.\")\n",
    "    print(f\"Total cost after discount: ${total_cost:.2f}\")\n",
    "else:\n",
    "    print(f\"Total cost: ${total_cost:.2f}\")"
   ]
  },
  {
   "cell_type": "code",
   "execution_count": 16,
   "id": "22b5cbea",
   "metadata": {},
   "outputs": [
    {
     "name": "stdout",
     "output_type": "stream",
     "text": [
      "Enter the marks: 34\n"
     ]
    }
   ],
   "source": [
    "marks = float(input(\"Enter the marks: \"))\n",
    "if marks < 25:\n",
    "    grade = \"F\"\n",
    "elif marks >= 25 and marks < 45:\n",
    "    grade = \"E\"\n",
    "elif marks >= 45 and marks < 50:\n",
    "    grade = \"D\"\n",
    "elif marks >= 50 and marks < 60:\n",
    "    grade = \"C\"\n",
    "elif marks >= 60 and marks < 80:\n",
    "    grade = \"B\"\n",
    "else:\n",
    "    grade = \"A\"\n",
    "    print(f\"Your grade is: {grade}\")"
   ]
  },
  {
   "cell_type": "code",
   "execution_count": 21,
   "id": "0375d3fc",
   "metadata": {},
   "outputs": [
    {
     "name": "stdout",
     "output_type": "stream",
     "text": [
      "Enter the number of classes held: 74\n",
      "Enter the number of classes attended: 45\n",
      "Percentage of classes attended: 60.81%\n",
      "Sorry, you are not allowed to sit in the exam due to low attendance.\n"
     ]
    }
   ],
   "source": [
    "classes_held = int(input(\"Enter the number of classes held: \"))\n",
    "classes_attended = int(input(\"Enter the number of classes attended: \"))\n",
    "attendance_percentage = (classes_attended / classes_held) * 100\n",
    "if attendance_percentage >= 75:\n",
    "    print(f\"Percentage of classes attended: {attendance_percentage:.2f}%\")\n",
    "    print(\"You are allowed to sit in the exam.\")\n",
    "else:\n",
    "    print(f\"Percentage of classes attended: {attendance_percentage:.2f}%\")\n",
    "    print(\"Sorry, you are not allowed to sit in the exam due to low attendance.\")"
   ]
  },
  {
   "cell_type": "code",
   "execution_count": 22,
   "id": "473cd3c4",
   "metadata": {},
   "outputs": [
    {
     "name": "stdout",
     "output_type": "stream",
     "text": [
      "Enter a year: 5\n",
      "5 is not a leap year.\n"
     ]
    }
   ],
   "source": [
    "year = int(input(\"Enter a year: \"))\n",
    "if (year % 4 == 0 and year % 100 != 0) or (year % 400 == 0):\n",
    "    print(f\"{year} is a leap year.\")\n",
    "else:\n",
    "    print(f\"{year} is not a leap year.\")"
   ]
  },
  {
   "cell_type": "code",
   "execution_count": 27,
   "id": "6fd6bee6",
   "metadata": {},
   "outputs": [
    {
     "name": "stdout",
     "output_type": "stream",
     "text": [
      "Enter your age: 18\n",
      "Enter your gender (M or F): M\n",
      "Enter your marital status (Y or N): NO\n",
      "ERROR\n"
     ]
    }
   ],
   "source": [
    "age = int(input(\"Enter your age: \"))\n",
    "gender = input(\"Enter your gender (M or F): \")\n",
    "marital_status = input(\"Enter your marital status (Y or N): \")\n",
    "if gender == 'F':\n",
    "    print(\"You will work in urban areas.\")\n",
    "elif gender == 'M' and 20 <= age <= 40 :\n",
    "    print(\"You may work anywhere.\")\n",
    "elif gender == 'M' and 40 <= age <= 60:\n",
    "    print(\"You will work in urban areas only.\")\n",
    "else:\n",
    "    print(\"ERROR\")"
   ]
  },
  {
   "cell_type": "code",
   "execution_count": 28,
   "id": "0ea7ed28",
   "metadata": {},
   "outputs": [
    {
     "name": "stdout",
     "output_type": "stream",
     "text": [
      "Enter the number of units: 120\n"
     ]
    }
   ],
   "source": [
    "units = int(input(\"Enter the number of units: \"))\n",
    "if units <= 100:\n",
    "    bill_amount = 0\n",
    "elif units <= 300:\n",
    "    bill_amount = (units - 100) * 5\n",
    "elif units > 300:\n",
    "    bill_amount = 200 * 5 + (units - 300) * 10\n",
    "    print(f\"Total bill amount is Rs.{bill_amount}\")"
   ]
  },
  {
   "cell_type": "code",
   "execution_count": 29,
   "id": "1b8ddb22",
   "metadata": {},
   "outputs": [
    {
     "name": "stdout",
     "output_type": "stream",
     "text": [
      "Enter the age of person 1: 19\n",
      "Enter the age of person 2: 23\n",
      "Enter the age of person 3: 18\n",
      "The oldest person is 23 years old.\n",
      "The youngest person is 18 years old.\n"
     ]
    }
   ],
   "source": [
    "age1 = int(input(\"Enter the age of person 1: \"))\n",
    "age2 = int(input(\"Enter the age of person 2: \"))\n",
    "age3 = int(input(\"Enter the age of person 3: \"))\n",
    "oldest = max(age1, age2, age3)\n",
    "youngest = min(age1, age2, age3)\n",
    "print(f\"The oldest person is {oldest} years old.\")\n",
    "print(f\"The youngest person is {youngest} years old.\")\n"
   ]
  },
  {
   "cell_type": "code",
   "execution_count": null,
   "id": "f8f317e3",
   "metadata": {},
   "outputs": [],
   "source": []
  }
 ],
 "metadata": {
  "kernelspec": {
   "display_name": "Python 3 (ipykernel)",
   "language": "python",
   "name": "python3"
  },
  "language_info": {
   "codemirror_mode": {
    "name": "ipython",
    "version": 3
   },
   "file_extension": ".py",
   "mimetype": "text/x-python",
   "name": "python",
   "nbconvert_exporter": "python",
   "pygments_lexer": "ipython3",
   "version": "3.11.5"
  }
 },
 "nbformat": 4,
 "nbformat_minor": 5
}
